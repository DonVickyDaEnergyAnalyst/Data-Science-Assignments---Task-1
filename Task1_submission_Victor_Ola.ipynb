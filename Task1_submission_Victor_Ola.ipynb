{
 "cells": [
  {
   "cell_type": "markdown",
   "id": "b80bd7d0-1093-4bc7-a580-6ba1c5f46172",
   "metadata": {},
   "source": [
    "# This is the Jupyter notebook of my Task 1 assignment solution\n",
    "## Tutor_Name  : Gift Ukpoweh\n",
    "## Student_Name: Victor Ola\n",
    "## Reg_Number  : DS/2025/TC3/244"
   ]
  },
  {
   "cell_type": "markdown",
   "id": "b4cd3db3-b845-4327-b174-5919fb79085a",
   "metadata": {},
   "source": [
    "## A.) Shopping List Manager Task"
   ]
  },
  {
   "cell_type": "code",
   "execution_count": 1,
   "id": "9e8fd869-47fa-4645-bdfb-160ec4c29513",
   "metadata": {},
   "outputs": [
    {
     "name": "stdout",
     "output_type": "stream",
     "text": [
      "['egusi', 'fish', 'vegetables', 'ponmo', 'crayfish']\n"
     ]
    }
   ],
   "source": [
    "# Step 1: Creating a list of  items to be bought at Ochanja Market for Weekend Special Dinner\n",
    "\n",
    "item_list = [\"egusi\", \"fish\", \"vegetables\", \"ponmo\", \"crayfish\"]\n",
    "price = [450, 900, 300, 400, 200]\n",
    "print(item_list)"
   ]
  },
  {
   "cell_type": "code",
   "execution_count": 2,
   "id": "6d7e2890-d351-4db6-aecd-81ce65120f51",
   "metadata": {},
   "outputs": [
    {
     "name": "stdout",
     "output_type": "stream",
     "text": [
      "{'egusi': 450, 'fish': 900, 'vegetables': 300, 'ponmo': 400, 'crayfish': 200}\n"
     ]
    }
   ],
   "source": [
    "# Step 2: Creating a dictionary where items are the key and price (#) is the value\n",
    "\n",
    "market_list = {\"egusi\":450, \"fish\":900, \"vegetables\":300, \"ponmo\":400, \"crayfish\":200}\n",
    "print(market_list)"
   ]
  },
  {
   "cell_type": "code",
   "execution_count": 3,
   "id": "06be1b8f-c3a9-4121-9d8b-f48a5e6fd106",
   "metadata": {},
   "outputs": [
    {
     "name": "stdout",
     "output_type": "stream",
     "text": [
      " The first item on the list is: 'egusi' and the last item is: 'crayfish'\n"
     ]
    }
   ],
   "source": [
    "# Step 3: Printing first and last items\n",
    "\n",
    "print( f\" The first item on the list is: '{next(iter(market_list.keys()))}' and the last item is: '{next(reversed(market_list.keys()))}'\")"
   ]
  },
  {
   "cell_type": "code",
   "execution_count": 4,
   "id": "20d4f45a-2f72-4d3e-93ce-29f588221989",
   "metadata": {},
   "outputs": [
    {
     "name": "stdout",
     "output_type": "stream",
     "text": [
      "The most expensive item on the shopping list is 'fish' and its price is #900\n"
     ]
    }
   ],
   "source": [
    "#Step 4: Print the price of the most expensive item in the dictionary\n",
    "\n",
    "most_expensive_item = max(market_list, key=market_list.get)\n",
    "most_expensive_item_value = market_list[most_expensive_item]\n",
    "\n",
    "print(f\"The most expensive item on the shopping list is '{most_expensive_item}' and its price is #{most_expensive_item_value}\")"
   ]
  },
  {
   "cell_type": "code",
   "execution_count": 5,
   "id": "cceda132-f291-4526-b35d-f6bccc84a01f",
   "metadata": {},
   "outputs": [
    {
     "name": "stdout",
     "output_type": "stream",
     "text": [
      "{'egusi': 450, 'fish': 900, 'vegetables': 300, 'ponmo': 400, 'crayfish': 200, 'pepper': 150, 'onions': 100}\n"
     ]
    }
   ],
   "source": [
    "#Step 5: Adding two more items to the list.\n",
    "## Ohh, I actually need pepper and onions to make my soup. I'll go ahead and add it to my list\n",
    "\n",
    "market_list[\"pepper\"] = 150\n",
    "market_list[\"onions\"] = 100\n",
    "print(market_list)"
   ]
  },
  {
   "cell_type": "code",
   "execution_count": 6,
   "id": "721fef9a-c7f1-42eb-898b-f48463fe009a",
   "metadata": {},
   "outputs": [
    {
     "name": "stdout",
     "output_type": "stream",
     "text": [
      "The total cost of the items in the list is: #2500\n"
     ]
    }
   ],
   "source": [
    "#Step 6: Find the total cost of all the items\n",
    "\n",
    "total_cost = sum(market_list.values())\n",
    "print(f\"The total cost of the items in the list is: #{total_cost}\")"
   ]
  },
  {
   "cell_type": "code",
   "execution_count": 7,
   "id": "92e60b16-c11c-4005-9d3a-4c1343b3eee4",
   "metadata": {},
   "outputs": [
    {
     "name": "stdout",
     "output_type": "stream",
     "text": [
      "('egusi', 'fish', 'vegetables', 'ponmo', 'crayfish', 'pepper', 'onions')\n"
     ]
    }
   ],
   "source": [
    "#Step 7: Create a tuple with your 3 favorite items from the shopping list and print it\n",
    "\n",
    "fav_tuple = tuple((market_list.keys()))\n",
    "print (fav_tuple)"
   ]
  },
  {
   "cell_type": "code",
   "execution_count": 8,
   "id": "60dbaed2-2a7e-4bda-b23e-84c0ead63216",
   "metadata": {},
   "outputs": [
    {
     "name": "stdout",
     "output_type": "stream",
     "text": [
      "dict_keys(['egusi', 'vegetables', 'crayfish'])\n",
      "('egusi', 'vegetables', 'crayfish')\n"
     ]
    }
   ],
   "source": [
    "#Step 7: Create a tuple with your 3 favorite items from the shopping list and print it\n",
    "\n",
    "del market_list[\"ponmo\"]\n",
    "del market_list[\"fish\"]\n",
    "del market_list[\"pepper\"]\n",
    "del market_list[\"onions\"]\n",
    "new_market_list = market_list\n",
    "fav_tuple = tuple(market_list)\n",
    "print (new_market_list.keys())\n",
    "print (fav_tuple)"
   ]
  },
  {
   "cell_type": "code",
   "execution_count": 9,
   "id": "002f9cdf-5ed7-4c60-8045-351bdd7acbbd",
   "metadata": {},
   "outputs": [
    {
     "data": {
      "text/plain": [
       "dict"
      ]
     },
     "execution_count": 9,
     "metadata": {},
     "output_type": "execute_result"
    }
   ],
   "source": [
    "type(market_list)"
   ]
  },
  {
   "cell_type": "code",
   "execution_count": 10,
   "id": "85b0f413-682c-48ef-b9bf-11b1473585d2",
   "metadata": {},
   "outputs": [
    {
     "data": {
      "text/plain": [
       "tuple"
      ]
     },
     "execution_count": 10,
     "metadata": {},
     "output_type": "execute_result"
    }
   ],
   "source": [
    "type(fav_tuple)"
   ]
  },
  {
   "cell_type": "code",
   "execution_count": 11,
   "id": "51eee5af-145e-470a-a4ef-e8af3b14b9b0",
   "metadata": {},
   "outputs": [
    {
     "name": "stdout",
     "output_type": "stream",
     "text": [
      " ['crayfish', 'egusi', 'vegetables']\n"
     ]
    }
   ],
   "source": [
    "#Step 8: Display the items in your shopping list in alphabetical order\n",
    "\n",
    "print (f\" {sorted(market_list)}\")"
   ]
  },
  {
   "cell_type": "code",
   "execution_count": 12,
   "id": "ca0a142a-9bad-4288-b229-78a647a223fa",
   "metadata": {},
   "outputs": [
    {
     "name": "stdout",
     "output_type": "stream",
     "text": [
      " ['crayfish', 'egusi', 'vegetables']\n"
     ]
    }
   ],
   "source": [
    "#Step 8: Display the items in your shopping list in alphabetical order. Alternatively using the tuple created\n",
    "\n",
    "print(f\" {sorted(fav_tuple)}\")"
   ]
  },
  {
   "cell_type": "markdown",
   "id": "20c00f8a-c5c3-43b3-9913-a8e5304dcd47",
   "metadata": {},
   "source": [
    "## B.) Student Information System"
   ]
  },
  {
   "cell_type": "code",
   "execution_count": 13,
   "id": "ec0e3271-bef5-43b8-af50-fa52c3d7bad0",
   "metadata": {},
   "outputs": [],
   "source": [
    "#Step 1: Create variables to store student’s information\n",
    "\n",
    "name = \"James Agbadudu\"\n",
    "age = 25\n",
    "gpa = 4.75\n",
    "if gpa >= 1.5:\n",
    "    status = \"passed\"\n",
    "else:\n",
    "    status = \"failed\""
   ]
  },
  {
   "cell_type": "code",
   "execution_count": 14,
   "id": "705491d8-011c-4235-8890-762849584399",
   "metadata": {},
   "outputs": [
    {
     "name": "stdout",
     "output_type": "stream",
     "text": [
      "My name is James Agbadudu. I am 25 years old with current GPA of 4.75. That means I have passed my courses\n"
     ]
    }
   ],
   "source": [
    "#Step 2: Print a sentence that includes all of the student’s details.\n",
    "\n",
    "print(f\"My name is {name}. I am {age} years old with current GPA of {gpa}. That means I have {status} my courses\")"
   ]
  },
  {
   "cell_type": "code",
   "execution_count": 15,
   "id": "7d849044-5bc6-43ab-b503-8b238e4a98dd",
   "metadata": {},
   "outputs": [
    {
     "name": "stdout",
     "output_type": "stream",
     "text": [
      " The 2nd subject is Physics, and the 4th is Economics\n"
     ]
    }
   ],
   "source": [
    "#Step 3: Create a list of 5 subjects the student is taking. Print the 2nd and 4th subjects\n",
    "\n",
    "subjects = [\"Mathematics\", \"Physics\", \"English\", \"Economics\", \"Biology\"]\n",
    "subjects[1::2]\n",
    "print (f\" The 2nd subject is {subjects[1]}, and the 4th is {subjects[3]}\")"
   ]
  },
  {
   "cell_type": "code",
   "execution_count": 16,
   "id": "7aa06e33-b2a1-4bbf-bd46-8a4712b104b1",
   "metadata": {},
   "outputs": [
    {
     "name": "stdout",
     "output_type": "stream",
     "text": [
      "The last student's hobby listed is: swimming\n"
     ]
    }
   ],
   "source": [
    "#Step 4: Create a tuple of the student’s hobbies. Print the last hobby\n",
    "\n",
    "student_hobbies = (\"reading\", \"playing football\", \"adventure\", \"hiking\", \"swimming\")\n",
    "student_hobbies[-1]\n",
    "print (f\"The last student's hobby listed is: {student_hobbies [-1]}\")"
   ]
  },
  {
   "cell_type": "code",
   "execution_count": 17,
   "id": "f873cd41-72d3-4641-8515-50b6d1795a4b",
   "metadata": {},
   "outputs": [
    {
     "name": "stdout",
     "output_type": "stream",
     "text": [
      "{'name': 'James Agbadudu', 'age': 25, 'gpa': 4.75, 'status': 'passed', 'subjects': ['Mathematics', 'Physics', 'English', 'Economics', 'Biology']}\n"
     ]
    }
   ],
   "source": [
    "#Step 5: Create a dictionary with the student’s details (keys: \"name\", \"age\", \"gpa\", \"passed\", \"subjects\"). Print the dictionary\n",
    "\n",
    "student_details = {\"name\": name, \"age\": age, \"gpa\":gpa, \"status\":status, \"subjects\":subjects}\n",
    "print (student_details)"
   ]
  },
  {
   "cell_type": "code",
   "execution_count": 18,
   "id": "cc31b2de-83a0-461b-867e-54d1693e81c4",
   "metadata": {},
   "outputs": [
    {
     "name": "stdout",
     "output_type": "stream",
     "text": [
      " The average of the student's score of [78, 80, 92, 56, 85] is: 78.2\n"
     ]
    }
   ],
   "source": [
    "#Step 6: Suppose you have another list for the test scores of the students. The scores are: 78, 80, 92, 56, 85. Find the average test score\n",
    "\n",
    "student_scores = [78, 80, 92, 56, 85]\n",
    "average_score = sum(student_scores)/len(student_scores)\n",
    "print(f\" The average of the student's score of {student_scores} is: {average_score}\")"
   ]
  },
  {
   "cell_type": "markdown",
   "id": "7ee3f88a-20a9-4361-b15b-1aadfe5f822b",
   "metadata": {},
   "source": [
    "## C.) Restaurant Menu Organizer"
   ]
  },
  {
   "cell_type": "code",
   "execution_count": 19,
   "id": "e4df25e1-f464-401b-b35c-d5761e976a6d",
   "metadata": {},
   "outputs": [],
   "source": [
    "#Step 1: Create a list of 5 food items sold in the restaurant\n",
    "\n",
    "restaurant_food = [\"fufu\", \"eba\", \"amala\", \"poundo\", \"beans\"]"
   ]
  },
  {
   "cell_type": "code",
   "execution_count": 20,
   "id": "760b6fdb-0dbd-43aa-9a62-4ca592b078aa",
   "metadata": {},
   "outputs": [],
   "source": [
    "#Step 2: Create a tuple of 3 drink names\n",
    "\n",
    "restaurant_drinks = (\"pepsi\", \"coca-cola\", \"mirinda\")"
   ]
  },
  {
   "cell_type": "code",
   "execution_count": 21,
   "id": "c0d2b389-c45b-45e9-8e4f-5418338f6436",
   "metadata": {},
   "outputs": [],
   "source": [
    "#Step 3: Create a dictionary that links each food item to its price\n",
    "\n",
    "food_price = {\"fufu\":200, \"eba\":150, \"amala\":250, \"poundo\":300, \"beans\":100}"
   ]
  },
  {
   "cell_type": "code",
   "execution_count": 22,
   "id": "f5aa6ead-4530-4b93-aebe-3c8093c999af",
   "metadata": {},
   "outputs": [
    {
     "data": {
      "text/plain": [
       "'amala'"
      ]
     },
     "execution_count": 22,
     "metadata": {},
     "output_type": "execute_result"
    }
   ],
   "source": [
    "#Step 4: Print the 3rd food item from the list\n",
    "\n",
    "restaurant_food[2]"
   ]
  },
  {
   "cell_type": "code",
   "execution_count": 23,
   "id": "02661c95-5dd5-4dc0-81fb-f1dfd47339e0",
   "metadata": {},
   "outputs": [
    {
     "data": {
      "text/plain": [
       "'pepsi'"
      ]
     },
     "execution_count": 23,
     "metadata": {},
     "output_type": "execute_result"
    }
   ],
   "source": [
    "#Step 5:  Print the 1st drink from the tuple\n",
    "\n",
    "restaurant_drinks[0]"
   ]
  },
  {
   "cell_type": "code",
   "execution_count": 24,
   "id": "6fe4de2b-df9c-4847-9838-54da1ada15c4",
   "metadata": {},
   "outputs": [
    {
     "name": "stdout",
     "output_type": "stream",
     "text": [
      "100\n",
      "The price of the least expensive food in the restaurant is: #100\n"
     ]
    }
   ],
   "source": [
    "#Step 6: Print the price of the least expensive item from the dictionary\n",
    "\n",
    "least_price_key = min(food_price, key=food_price.get)\n",
    "least_price_value = food_price[least_price_key]\n",
    "print (least_price_value)\n",
    "print (f\"The price of the least expensive food in the restaurant is: #{least_price_value}\")"
   ]
  },
  {
   "cell_type": "code",
   "execution_count": 25,
   "id": "d0b0e97f-e41f-46bd-a940-fd624ce41a68",
   "metadata": {},
   "outputs": [
    {
     "name": "stdout",
     "output_type": "stream",
     "text": [
      "{'fufu': 200, 'eba': 150, 'amala': 250, 'poundo': 300, 'beans': 100, 'rice': 200, 'Fried plantain': 50}\n"
     ]
    }
   ],
   "source": [
    "#step 7: Add 2 more food items to the list\n",
    "\n",
    "food_price[\"rice\"] = 200\n",
    "food_price[\"Fried plantain\"] = 50\n",
    "print (food_price)"
   ]
  },
  {
   "cell_type": "code",
   "execution_count": 26,
   "id": "613bdab3-b15d-40a0-8e32-02992a3859a3",
   "metadata": {},
   "outputs": [
    {
     "name": "stdout",
     "output_type": "stream",
     "text": [
      "The average price of the food in this restaurant is: #178\n"
     ]
    }
   ],
   "source": [
    "#Step 8: Find the average food price\n",
    "\n",
    "average_food_price = sum(food_price.values())//len(food_price)\n",
    "print(f\"The average price of the food in this restaurant is: #{average_food_price}\")"
   ]
  },
  {
   "cell_type": "code",
   "execution_count": 27,
   "id": "e70565de-01a5-43f9-916f-40b196ec6fa9",
   "metadata": {},
   "outputs": [
    {
     "name": "stdout",
     "output_type": "stream",
     "text": [
      "In this restaurant, we have the following foods dict_keys(['fufu', 'eba', 'amala', 'poundo', 'beans', 'rice', 'Fried plantain']) and the drinks are ('pepsi', 'coca-cola', 'mirinda')\n"
     ]
    }
   ],
   "source": [
    "#Step 9: Print the full menu dictionary\n",
    "\n",
    "print(f\"In this restaurant, we have the following foods {food_price.keys()} and the drinks are {restaurant_drinks[0:]}\")"
   ]
  },
  {
   "cell_type": "code",
   "execution_count": null,
   "id": "6c8f9280-7b71-42bc-8145-190f4d782cc4",
   "metadata": {},
   "outputs": [],
   "source": []
  }
 ],
 "metadata": {
  "kernelspec": {
   "display_name": "Python [conda env:base] *",
   "language": "python",
   "name": "conda-base-py"
  },
  "language_info": {
   "codemirror_mode": {
    "name": "ipython",
    "version": 3
   },
   "file_extension": ".py",
   "mimetype": "text/x-python",
   "name": "python",
   "nbconvert_exporter": "python",
   "pygments_lexer": "ipython3",
   "version": "3.12.7"
  }
 },
 "nbformat": 4,
 "nbformat_minor": 5
}
